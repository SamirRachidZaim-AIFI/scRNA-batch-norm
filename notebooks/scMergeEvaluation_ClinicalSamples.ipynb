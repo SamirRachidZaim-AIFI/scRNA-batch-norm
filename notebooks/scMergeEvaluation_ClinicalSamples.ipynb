{
 "cells": [
  {
   "cell_type": "markdown",
   "metadata": {},
   "source": [
    "# Normalizing Clinical Samples Using scMerge \n",
    "\n",
    "In order to determine if batch effects exist, the bridging controls were used to normalize the data since they are approximately equally-distributed across both batches and are designed to serve as controls for the studies. \n",
    "\n",
    "Using the bridge controls, we can then use that \"information\" that was learned and apply that to the clinical samples and determine how effective normalization is. \n",
    "\n",
    "The analyses below use multi-variate ANOVAs and graphical visualizations (i.e., PCA, T-SNE, and UMAP) to compare scMerge's normalization and batch correction from the leukopak bridging controls to the clinical samples.\n"
   ]
  },
  {
   "cell_type": "code",
   "execution_count": 8,
   "metadata": {},
   "outputs": [],
   "source": [
    "## Load data\n",
    "options(warn=-1)\n",
    "\n",
    "# sce<-readRDS(\"../../data/sceFltrd_kpGns.rds\")\n",
    "# sce<-sce[,sce$subjid!=\"IMM19\"]\n",
    "# sce$subjid<-factor(sce$subjid,levels=sort(unique(sce$subjid)))\n",
    "# subSmpl.lst<-readRDS(\"../../data/subSmpl.lst.b15p10.rds\")\n",
    "# print('data loaded')\n",
    "# fres <- readRDS('../../data/tmp_scMerge.RDS')"
   ]
  },
  {
   "cell_type": "code",
   "execution_count": null,
   "metadata": {},
   "outputs": [],
   "source": []
  },
  {
   "cell_type": "code",
   "execution_count": 2,
   "metadata": {},
   "outputs": [
    {
     "name": "stderr",
     "output_type": "stream",
     "text": [
      "Loading required package: scMerge\n",
      "\n",
      "Loading required package: BiocParallel\n",
      "\n",
      "Loading required package: ggpubr\n",
      "\n",
      "Loading required package: ggplot2\n",
      "\n"
     ]
    }
   ],
   "source": [
    "## Load libraries \n",
    "options(warn=-1)\n",
    "source('../code/scMerge_helperFunctions.R')\n",
    "library(SingleCellExperiment)\n",
    "require(scMerge)\n",
    "require(BiocParallel)\n",
    "require(ggpubr)"
   ]
  },
  {
   "cell_type": "code",
   "execution_count": 35,
   "metadata": {},
   "outputs": [
    {
     "data": {
      "text/html": [
       "6"
      ],
      "text/latex": [
       "6"
      ],
      "text/markdown": [
       "6"
      ],
      "text/plain": [
       "[1] 6"
      ]
     },
     "metadata": {},
     "output_type": "display_data"
    },
    {
     "data": {
      "text/html": [
       "<style>\n",
       ".list-inline {list-style: none; margin:0; padding: 0}\n",
       ".list-inline>li {display: inline-block}\n",
       ".list-inline>li:not(:last-child)::after {content: \"\\00b7\"; padding: 0 .5ex}\n",
       "</style>\n",
       "<ol class=list-inline><li>'sce_object'</li><li>'scNormalization'</li></ol>\n"
      ],
      "text/latex": [
       "\\begin{enumerate*}\n",
       "\\item 'sce\\_object'\n",
       "\\item 'scNormalization'\n",
       "\\end{enumerate*}\n"
      ],
      "text/markdown": [
       "1. 'sce_object'\n",
       "2. 'scNormalization'\n",
       "\n",
       "\n"
      ],
      "text/plain": [
       "[1] \"sce_object\"      \"scNormalization\""
      ]
     },
     "metadata": {},
     "output_type": "display_data"
    },
    {
     "data": {
      "text/html": [
       "<table class=\"dataframe\">\n",
       "<caption>A matrix: 1 × 1020 of type dbl</caption>\n",
       "<thead>\n",
       "\t<tr><th scope=col>ENSG00000131043</th><th scope=col>ENSG00000161204</th><th scope=col>ENSG00000140526</th><th scope=col>ENSG00000146109</th><th scope=col>ENSG00000114331</th><th scope=col>ENSG00000112304</th><th scope=col>ENSG00000143727</th><th scope=col>ENSG00000138071</th><th scope=col>ENSG00000137845</th><th scope=col>ENSG00000159346</th><th scope=col>⋯</th><th scope=col>ENSG00000182986</th><th scope=col>ENSG00000198521</th><th scope=col>ENSG00000204604</th><th scope=col>ENSG00000177853</th><th scope=col>ENSG00000075292</th><th scope=col>ENSG00000172687</th><th scope=col>ENSG00000267041</th><th scope=col>ENSG00000106400</th><th scope=col>ENSG00000132485</th><th scope=col>ENSG00000214941</th></tr>\n",
       "</thead>\n",
       "<tbody>\n",
       "\t<tr><td>2.495481</td><td>6.605822</td><td>9.757801</td><td>6.996716</td><td>11.51579</td><td>8.361165</td><td>12.06898</td><td>18.14815</td><td>12.18384</td><td>8.616206</td><td>⋯</td><td>2.882332</td><td>4.874293</td><td>4.422323</td><td>7.954154</td><td>11.78824</td><td>5.688845</td><td>3.08727</td><td>9.864748</td><td>14.9074</td><td>8.576998</td></tr>\n",
       "</tbody>\n",
       "</table>\n"
      ],
      "text/latex": [
       "A matrix: 1 × 1020 of type dbl\n",
       "\\begin{tabular}{lllllllllllllllllllll}\n",
       " ENSG00000131043 & ENSG00000161204 & ENSG00000140526 & ENSG00000146109 & ENSG00000114331 & ENSG00000112304 & ENSG00000143727 & ENSG00000138071 & ENSG00000137845 & ENSG00000159346 & ⋯ & ENSG00000182986 & ENSG00000198521 & ENSG00000204604 & ENSG00000177853 & ENSG00000075292 & ENSG00000172687 & ENSG00000267041 & ENSG00000106400 & ENSG00000132485 & ENSG00000214941\\\\\n",
       "\\hline\n",
       "\t 2.495481 & 6.605822 & 9.757801 & 6.996716 & 11.51579 & 8.361165 & 12.06898 & 18.14815 & 12.18384 & 8.616206 & ⋯ & 2.882332 & 4.874293 & 4.422323 & 7.954154 & 11.78824 & 5.688845 & 3.08727 & 9.864748 & 14.9074 & 8.576998\\\\\n",
       "\\end{tabular}\n"
      ],
      "text/markdown": [
       "\n",
       "A matrix: 1 × 1020 of type dbl\n",
       "\n",
       "| ENSG00000131043 | ENSG00000161204 | ENSG00000140526 | ENSG00000146109 | ENSG00000114331 | ENSG00000112304 | ENSG00000143727 | ENSG00000138071 | ENSG00000137845 | ENSG00000159346 | ⋯ | ENSG00000182986 | ENSG00000198521 | ENSG00000204604 | ENSG00000177853 | ENSG00000075292 | ENSG00000172687 | ENSG00000267041 | ENSG00000106400 | ENSG00000132485 | ENSG00000214941 |\n",
       "|---|---|---|---|---|---|---|---|---|---|---|---|---|---|---|---|---|---|---|---|---|\n",
       "| 2.495481 | 6.605822 | 9.757801 | 6.996716 | 11.51579 | 8.361165 | 12.06898 | 18.14815 | 12.18384 | 8.616206 | ⋯ | 2.882332 | 4.874293 | 4.422323 | 7.954154 | 11.78824 | 5.688845 | 3.08727 | 9.864748 | 14.9074 | 8.576998 |\n",
       "\n"
      ],
      "text/plain": [
       "     ENSG00000131043 ENSG00000161204 ENSG00000140526 ENSG00000146109\n",
       "[1,] 2.495481        6.605822        9.757801        6.996716       \n",
       "     ENSG00000114331 ENSG00000112304 ENSG00000143727 ENSG00000138071\n",
       "[1,] 11.51579        8.361165        12.06898        18.14815       \n",
       "     ENSG00000137845 ENSG00000159346 ⋯ ENSG00000182986 ENSG00000198521\n",
       "[1,] 12.18384        8.616206        ⋯ 2.882332        4.874293       \n",
       "     ENSG00000204604 ENSG00000177853 ENSG00000075292 ENSG00000172687\n",
       "[1,] 4.422323        7.954154        11.78824        5.688845       \n",
       "     ENSG00000267041 ENSG00000106400 ENSG00000132485 ENSG00000214941\n",
       "[1,] 3.08727         9.864748        14.9074         8.576998       "
      ]
     },
     "metadata": {},
     "output_type": "display_data"
    },
    {
     "data": {
      "text/html": [
       "<style>\n",
       ".list-inline {list-style: none; margin:0; padding: 0}\n",
       ".list-inline>li {display: inline-block}\n",
       ".list-inline>li:not(:last-child)::after {content: \"\\00b7\"; padding: 0 .5ex}\n",
       "</style>\n",
       "<ol class=list-inline><li>22758</li><li>496865</li></ol>\n"
      ],
      "text/latex": [
       "\\begin{enumerate*}\n",
       "\\item 22758\n",
       "\\item 496865\n",
       "\\end{enumerate*}\n"
      ],
      "text/markdown": [
       "1. 22758\n",
       "2. 496865\n",
       "\n",
       "\n"
      ],
      "text/plain": [
       "[1]  22758 496865"
      ]
     },
     "metadata": {},
     "output_type": "display_data"
    },
    {
     "data": {
      "text/html": [
       "<style>\n",
       ".list-inline {list-style: none; margin:0; padding: 0}\n",
       ".list-inline>li {display: inline-block}\n",
       ".list-inline>li:not(:last-child)::after {content: \"\\00b7\"; padding: 0 .5ex}\n",
       "</style>\n",
       "<ol class=list-inline><li>19524</li><li>9699</li></ol>\n"
      ],
      "text/latex": [
       "\\begin{enumerate*}\n",
       "\\item 19524\n",
       "\\item 9699\n",
       "\\end{enumerate*}\n"
      ],
      "text/markdown": [
       "1. 19524\n",
       "2. 9699\n",
       "\n",
       "\n"
      ],
      "text/plain": [
       "[1] 19524  9699"
      ]
     },
     "metadata": {},
     "output_type": "display_data"
    }
   ],
   "source": [
    "length(subSmpl.lst) # length(subSmpl.lst): 6  ; dim(subSmpl.lst[[1]]) (bootstrap x cells: 15 x 7353)\n",
    "wks<-sort(unique(sce$wk))\n",
    "names(fres)\n",
    "\n",
    "#### Extract Elements from scMerge/RUV normalization\n",
    "require(scMerge)\n",
    "data(\"segList_ensemblGeneID\", package = \"scMerge\")\n",
    "seg_index <- segList_ensemblGeneID$human$human_scSEG\n",
    "cmSEGs <- intersect(row.names(fres$sce_object), seg_index)\n",
    "\n",
    "\n",
    "k<-fres[[2]]$optimal_ruvK ## k=1\n",
    "falpha<-fres[[2]][[k]]$fullalpha # dim(falpha) 52 x 20240 (k x G)\n",
    "colnames(falpha)<-rownames(fres$sce_object)\n",
    "alpha <- falpha[seq_len(min(k, nrow(falpha))), , drop = FALSE] # dim(alpha) : 1 x 20240\n",
    "ac <- alpha[,cmSEGs, drop = FALSE] # dim(ac): 1 x 52; sum(is.na(ac[1,]))\n",
    "head(ac)\n",
    "d=1;b=1\n",
    "tmp <- fres$sce_object\n",
    "\n",
    "dim(sce)\n",
    "dim(tmp)"
   ]
  },
  {
   "cell_type": "code",
   "execution_count": 42,
   "metadata": {},
   "outputs": [],
   "source": [
    "# for(d in 1: length(subSmpl.lst)){\n",
    "#   for(b in 1:nrow(subSmpl.lst[[d]])){\n",
    "    idx <- subSmpl.lst[[d]][b, ]\n",
    "    sub.sce <- sce[which(rownames(sce) %in% rownames(tmp)) , which(sce$wk==wks[d])[idx] ]\n",
    "#     all.equal(rownames(sub.sce),rownames(tmp)); unique(sub.sce$wk)==wks[d]\n",
    "    \n",
    "    scale_res <- standardize2_mod(Y=assay(sub.sce,\"logcpm\"), batch=sub.sce$batch)\n",
    "    stand_tY <- DelayedArray::t(scale_res$stand_Y)\n",
    "    stand_sd <- sqrt(scale_res$stand_var)\n",
    "    stand_mean <- scale_res$stand_mean\n",
    "    \n",
    "    W <- stand_tY[, cmSEGs] %*% DelayedArray::t(ac) %*% solve(ac %*% DelayedArray::t(ac))\n",
    "    newY_mc <- stand_tY - W %*% alpha\n",
    "    ## Add back the mean and sd to the normalised data\n",
    "    newY_mc <-(t(newY_mc) * stand_sd) + stand_mean\n",
    "    assay(sub.sce,\"normalized\")<-newY_mc"
   ]
  },
  {
   "cell_type": "code",
   "execution_count": 43,
   "metadata": {},
   "outputs": [
    {
     "data": {
      "text/plain": [
       "class: SingleCellExperiment \n",
       "dim: 19524 7353 \n",
       "metadata(0):\n",
       "assays(3): counts logcpm normalized\n",
       "rownames(19524): ENSG00000131043 ENSG00000161204 ... ENSG00000205439\n",
       "  ENSG00000184274\n",
       "rowData names(19): geneid genename ... Dendriticcell.exprProp\n",
       "  Platelets.exprProp\n",
       "colnames(7353): 5475 1007 ... 377997 386355\n",
       "colData names(21): barcodes batch ... mito propMito\n",
       "reducedDimNames(0):\n",
       "altExpNames(0):"
      ]
     },
     "metadata": {},
     "output_type": "display_data"
    }
   ],
   "source": [
    "sub.sce"
   ]
  },
  {
   "cell_type": "code",
   "execution_count": null,
   "metadata": {},
   "outputs": [],
   "source": [
    "#     ##################### LP: Run PCA - PRIOR/POST #####################################\n",
    "#     BC.prior.smpl = scater::runPCA(sub.sce, exprs_values = \"logcpm\",ncomponents=5); \n",
    "#     #reducedDimNames(sceLP); head(reducedDim(sceLP)); dim(reducedDim(sceLP))\n",
    "#     PCs.prior.smpl<-data.frame(cbind(reducedDim(BC.prior.smpl),\"cellType\"=colData(sub.sce)$cellType,\"batch\"=colData(sub.sce)$batch))\n",
    "#     PCs.prior.smpl[,1:5]<-apply(PCs.prior.smpl[,1:5],2,function(x){as.numeric(as.character(x))})\n",
    "#     op <- options(contrasts = c(\"contr.helmert\", \"contr.poly\"))\n",
    "#     maov.prior.smpl<-manova(cbind(PC1,PC2,PC3,PC4,PC5) ~ as.factor(cellType)*as.factor(batch),data=PCs.prior.smpl)\n",
    "#     summary(maov.prior.smpl)\n",
    "    \n",
    "#     p<-scater::plotPCA(BC.prior.smpl, colour_by = \"cellType\", shape_by = \"batch\")\n",
    "#     p<-scater::plotPCA(BC.prior.smpl, colour_by = \"batch\")\n",
    "\n",
    "    \n",
    "#     BC.post.smpl = scater::runPCA(sub.sce, exprs_values = \"normalized\",ncomponents=5); \n",
    "#     PCs.post.smpl<-data.frame(cbind(reducedDim(BC.post.smpl),\"cellType\"=colData(sub.sce)$cellType,\"batch\"=colData(sub.sce)$batch))\n",
    "#     PCs.post.smpl[,1:5]<-apply(PCs.post.smpl[,1:5],2,function(x){as.numeric(as.character(x))})\n",
    "#     op <- options(contrasts = c(\"contr.helmert\", \"contr.poly\"))\n",
    "#     maov.post.smpl<-manova(cbind(PC1,PC2,PC3,PC4,PC5) ~ as.factor(cellType)*as.factor(batch),data=PCs.post.smpl)\n",
    "#     summary(maov.post.smpl)\n",
    "    \n",
    "#     p<-scater::plotPCA(BC.post.smpl, colour_by = \"cellType\", shape_by = \"batch\")\n",
    "#     p<-scater::plotPCA(BC.post.smpl, colour_by = \"batch\")\n",
    "    \n",
    "#     ##################### LP: Run TSNE - PRIOR/POST #####################################\n",
    "#     set.seed(1000)\n",
    "#     BC.prior.smpl <- scater::runTSNE(BC.prior.smpl, perplexity=50, dimred=\"PCA\", exprs_values = \"logcpm\",  n_dimred=5)\n",
    "    \n",
    "#     p<-scater::plotTSNE(BC.prior.smpl, colour_by = \"cellType\", shape_by = \"batch\")\n",
    "#     p<-scater::plotTSNE(BC.prior.smpl, colour_by = \"batch\")\n",
    "    \n",
    "#     BC.post.smpl <- scater::runTSNE(BC.post.smpl, perplexity=50, dimred=\"PCA\", exprs_values = \"normalized\",  n_dimred=5)\n",
    "#     p<-scater::plotTSNE(BC.post.smpl, colour_by = \"cellType\", shape_by = \"batch\")\n",
    "#     p<-scater::plotTSNE(BC.post.smpl, colour_by = \"batch\")\n",
    "    \n",
    "#     ##################### LP: Run UMAP - PRIOR/POST #####################################\n",
    "#     BC.prior.smpl <- scater::runUMAP(BC.prior.smpl,  exprs_values = \"logcpm\",  n_dimred=5)\n",
    "    \n",
    "#     outfile = \"BCPrior.umap1.smpl.pdf\" \n",
    "#     p<-scater::plotUMAP(BC.prior.smpl, colour_by = \"cellType\", shape_by = \"batch\")\n",
    "#     pdf(file = outfile, width = 7, height = 5)\n",
    "#     print(p)\n",
    "#     dev.off()\n",
    "#     outfile = \"BCPrior.umap2.smpl.pdf\" \n",
    "#     p<-scater::plotUMAP(BC.prior.smpl, colour_by = \"batch\")\n",
    "#     pdf(file = outfile, width = 7, height = 5)\n",
    "#     print(p)\n",
    "#     dev.off()\n",
    "    \n",
    "#     BC.post.smpl <- scater::runUMAP(BC.post.smpl, exprs_values = \"normalized\", use_dimred=\"PCA\",  n_dimred=5) \n",
    "    \n",
    "#     outfile = \"BCPost.umap1.smpl.pdf\" \n",
    "#     p<-scater::plotUMAP(BC.post.smpl, colour_by = \"cellType\", shape_by = \"batch\")\n",
    "#     pdf(file = outfile, width = 7, height = 5)\n",
    "#     print(p)\n",
    "#     dev.off()\n",
    "#     outfile = \"BCPost.umap2.smpl.pdf\" \n",
    "#     p<-scater::plotUMAP(BC.post.smpl, colour_by = \"batch\")\n",
    "#     pdf(file = outfile, width = 7, height = 5)\n",
    "#     print(p)\n",
    "#     dev.off()\n",
    "#   }\n",
    "# }"
   ]
  },
  {
   "cell_type": "code",
   "execution_count": null,
   "metadata": {},
   "outputs": [],
   "source": []
  },
  {
   "cell_type": "code",
   "execution_count": null,
   "metadata": {},
   "outputs": [],
   "source": []
  },
  {
   "cell_type": "code",
   "execution_count": null,
   "metadata": {},
   "outputs": [],
   "source": []
  },
  {
   "cell_type": "code",
   "execution_count": null,
   "metadata": {},
   "outputs": [],
   "source": []
  },
  {
   "cell_type": "code",
   "execution_count": null,
   "metadata": {},
   "outputs": [],
   "source": []
  },
  {
   "cell_type": "code",
   "execution_count": null,
   "metadata": {},
   "outputs": [],
   "source": []
  }
 ],
 "metadata": {
  "kernelspec": {
   "display_name": "R",
   "language": "R",
   "name": "ir"
  },
  "language_info": {
   "codemirror_mode": "r",
   "file_extension": ".r",
   "mimetype": "text/x-r-source",
   "name": "R",
   "pygments_lexer": "r",
   "version": "4.0.2"
  }
 },
 "nbformat": 4,
 "nbformat_minor": 4
}
